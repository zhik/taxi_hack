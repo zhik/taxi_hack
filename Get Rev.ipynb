{
 "cells": [
  {
   "cell_type": "code",
   "execution_count": 1,
   "metadata": {},
   "outputs": [],
   "source": [
    "import pandas as pd"
   ]
  },
  {
   "cell_type": "markdown",
   "metadata": {},
   "source": [
    "## Model 1 - flat rate"
   ]
  },
  {
   "cell_type": "code",
   "execution_count": 22,
   "metadata": {},
   "outputs": [
    {
     "name": "stdout",
     "output_type": "stream",
     "text": [
      "total trips of everything:  113496874\n"
     ]
    }
   ],
   "source": [
    "total = pd.read_csv('./data/counts.csv')\n",
    "print('total trips of everything: ', total['count'].sum())"
   ]
  },
  {
   "cell_type": "code",
   "execution_count": 56,
   "metadata": {},
   "outputs": [
    {
     "data": {
      "text/html": [
       "<div>\n",
       "<style scoped>\n",
       "    .dataframe tbody tr th:only-of-type {\n",
       "        vertical-align: middle;\n",
       "    }\n",
       "\n",
       "    .dataframe tbody tr th {\n",
       "        vertical-align: top;\n",
       "    }\n",
       "\n",
       "    .dataframe thead th {\n",
       "        text-align: right;\n",
       "    }\n",
       "</style>\n",
       "<table border=\"1\" class=\"dataframe\">\n",
       "  <thead>\n",
       "    <tr style=\"text-align: right;\">\n",
       "      <th></th>\n",
       "      <th>hour</th>\n",
       "      <th>dow</th>\n",
       "      <th>pickup_location_id</th>\n",
       "      <th>dropoff_location_id</th>\n",
       "      <th>count</th>\n",
       "      <th>bucketId</th>\n",
       "    </tr>\n",
       "  </thead>\n",
       "  <tbody>\n",
       "    <tr>\n",
       "      <th>3</th>\n",
       "      <td>0</td>\n",
       "      <td>0</td>\n",
       "      <td>10</td>\n",
       "      <td>114</td>\n",
       "      <td>1</td>\n",
       "      <td>0</td>\n",
       "    </tr>\n",
       "    <tr>\n",
       "      <th>4</th>\n",
       "      <td>0</td>\n",
       "      <td>0</td>\n",
       "      <td>10</td>\n",
       "      <td>141</td>\n",
       "      <td>2</td>\n",
       "      <td>0</td>\n",
       "    </tr>\n",
       "    <tr>\n",
       "      <th>5</th>\n",
       "      <td>0</td>\n",
       "      <td>0</td>\n",
       "      <td>10</td>\n",
       "      <td>142</td>\n",
       "      <td>2</td>\n",
       "      <td>0</td>\n",
       "    </tr>\n",
       "    <tr>\n",
       "      <th>6</th>\n",
       "      <td>0</td>\n",
       "      <td>0</td>\n",
       "      <td>10</td>\n",
       "      <td>144</td>\n",
       "      <td>1</td>\n",
       "      <td>0</td>\n",
       "    </tr>\n",
       "    <tr>\n",
       "      <th>8</th>\n",
       "      <td>0</td>\n",
       "      <td>0</td>\n",
       "      <td>10</td>\n",
       "      <td>161</td>\n",
       "      <td>1</td>\n",
       "      <td>0</td>\n",
       "    </tr>\n",
       "  </tbody>\n",
       "</table>\n",
       "</div>"
      ],
      "text/plain": [
       "   hour  dow  pickup_location_id  dropoff_location_id  count  bucketId\n",
       "3     0    0                  10                  114      1         0\n",
       "4     0    0                  10                  141      2         0\n",
       "5     0    0                  10                  142      2         0\n",
       "6     0    0                  10                  144      1         0\n",
       "8     0    0                  10                  161      1         0"
      ]
     },
     "execution_count": 56,
     "metadata": {},
     "output_type": "execute_result"
    }
   ],
   "source": [
    "#filter only pickup or dropoff in congestion pricing\n",
    "zones = [4,12,13,43,45,48,50,68,79,87,88,90,100,107,113,114,125,137,140,141,142,143,144,148,158,161,162,163,164,170,186,209,211,224,229,230,231,232,233,234,236,237,238,239,246,249,261,262,263]\n",
    "\n",
    "filtered_total = total[total['pickup_location_id'].isin(zones) | total['dropoff_location_id'].isin(zones)].copy()\n",
    "\n",
    "#convert time time buckets \n",
    "# 8am Weekdays (6/6) - (morning rush-hours 6 - 10am) - 1\n",
    "# 2pm Weekdays (6/6) - (non-rush hours) - 2\n",
    "# 6pm Weekdays (6/6) - (night rush-hours 4 - 8pm) - 3\n",
    "# 2pm Weekends (6/9) - (non-rush hours) - 0 \n",
    "\n",
    "def getBucketId(row):\n",
    "    if row['dow'] in (0, 6):\n",
    "        return 0\n",
    "    elif row['hour'] in (6,7,8,9,10):\n",
    "        return 1\n",
    "    elif row['hour'] in (4,5,6,7,8):\n",
    "        return 3\n",
    "    else: \n",
    "        return 2\n",
    "    \n",
    "filtered_total['bucketId'] = filtered_total.apply(getBucketId, axis = 1)\n",
    "\n",
    "filtered_total.head()"
   ]
  },
  {
   "cell_type": "code",
   "execution_count": 57,
   "metadata": {},
   "outputs": [
    {
     "name": "stdout",
     "output_type": "stream",
     "text": [
      "total trips of filtered congrestion zones 105334092\n"
     ]
    }
   ],
   "source": [
    "print('total trips of filtered congrestion zones', filtered_total['count'].sum())"
   ]
  },
  {
   "cell_type": "code",
   "execution_count": 58,
   "metadata": {},
   "outputs": [
    {
     "data": {
      "text/plain": [
       "263335230.0"
      ]
     },
     "execution_count": 58,
     "metadata": {},
     "output_type": "execute_result"
    }
   ],
   "source": [
    "105334092 * 2.5"
   ]
  },
  {
   "cell_type": "markdown",
   "metadata": {},
   "source": [
    "## Setup Model 2 and 3"
   ]
  },
  {
   "cell_type": "code",
   "execution_count": 59,
   "metadata": {},
   "outputs": [
    {
     "data": {
      "text/html": [
       "<div>\n",
       "<style scoped>\n",
       "    .dataframe tbody tr th:only-of-type {\n",
       "        vertical-align: middle;\n",
       "    }\n",
       "\n",
       "    .dataframe tbody tr th {\n",
       "        vertical-align: top;\n",
       "    }\n",
       "\n",
       "    .dataframe thead th {\n",
       "        text-align: right;\n",
       "    }\n",
       "</style>\n",
       "<table border=\"1\" class=\"dataframe\">\n",
       "  <thead>\n",
       "    <tr style=\"text-align: right;\">\n",
       "      <th></th>\n",
       "      <th>_uid_</th>\n",
       "      <th>fromid</th>\n",
       "      <th>toid</th>\n",
       "      <th>timebucket</th>\n",
       "      <th>distance_i</th>\n",
       "      <th>duration_i</th>\n",
       "    </tr>\n",
       "  </thead>\n",
       "  <tbody>\n",
       "    <tr>\n",
       "      <th>0</th>\n",
       "      <td>1</td>\n",
       "      <td>1</td>\n",
       "      <td>4</td>\n",
       "      <td>0</td>\n",
       "      <td>4258.536898</td>\n",
       "      <td>1113.309588</td>\n",
       "    </tr>\n",
       "    <tr>\n",
       "      <th>1</th>\n",
       "      <td>2</td>\n",
       "      <td>1</td>\n",
       "      <td>4</td>\n",
       "      <td>1</td>\n",
       "      <td>4258.536898</td>\n",
       "      <td>1113.309588</td>\n",
       "    </tr>\n",
       "    <tr>\n",
       "      <th>2</th>\n",
       "      <td>3</td>\n",
       "      <td>1</td>\n",
       "      <td>4</td>\n",
       "      <td>2</td>\n",
       "      <td>4258.536898</td>\n",
       "      <td>1113.309588</td>\n",
       "    </tr>\n",
       "    <tr>\n",
       "      <th>3</th>\n",
       "      <td>4</td>\n",
       "      <td>1</td>\n",
       "      <td>4</td>\n",
       "      <td>3</td>\n",
       "      <td>4258.536898</td>\n",
       "      <td>1113.309588</td>\n",
       "    </tr>\n",
       "    <tr>\n",
       "      <th>4</th>\n",
       "      <td>5</td>\n",
       "      <td>1</td>\n",
       "      <td>12</td>\n",
       "      <td>0</td>\n",
       "      <td>92.058823</td>\n",
       "      <td>5.942862</td>\n",
       "    </tr>\n",
       "  </tbody>\n",
       "</table>\n",
       "</div>"
      ],
      "text/plain": [
       "   _uid_  fromid  toid  timebucket   distance_i   duration_i\n",
       "0      1       1     4           0  4258.536898  1113.309588\n",
       "1      2       1     4           1  4258.536898  1113.309588\n",
       "2      3       1     4           2  4258.536898  1113.309588\n",
       "3      4       1     4           3  4258.536898  1113.309588\n",
       "4      5       1    12           0    92.058823     5.942862"
      ]
     },
     "execution_count": 59,
     "metadata": {},
     "output_type": "execute_result"
    }
   ],
   "source": [
    "legs = pd.read_csv('./data/legs.csv')\n",
    "legs.head()"
   ]
  },
  {
   "cell_type": "code",
   "execution_count": 60,
   "metadata": {},
   "outputs": [
    {
     "data": {
      "text/html": [
       "<div>\n",
       "<style scoped>\n",
       "    .dataframe tbody tr th:only-of-type {\n",
       "        vertical-align: middle;\n",
       "    }\n",
       "\n",
       "    .dataframe tbody tr th {\n",
       "        vertical-align: top;\n",
       "    }\n",
       "\n",
       "    .dataframe thead th {\n",
       "        text-align: right;\n",
       "    }\n",
       "</style>\n",
       "<table border=\"1\" class=\"dataframe\">\n",
       "  <thead>\n",
       "    <tr style=\"text-align: right;\">\n",
       "      <th></th>\n",
       "      <th>hour</th>\n",
       "      <th>dow</th>\n",
       "      <th>pickup_location_id</th>\n",
       "      <th>dropoff_location_id</th>\n",
       "      <th>count</th>\n",
       "      <th>bucketId</th>\n",
       "      <th>_uid_</th>\n",
       "      <th>fromid</th>\n",
       "      <th>toid</th>\n",
       "      <th>timebucket</th>\n",
       "      <th>distance_i</th>\n",
       "      <th>duration_i</th>\n",
       "    </tr>\n",
       "  </thead>\n",
       "  <tbody>\n",
       "    <tr>\n",
       "      <th>0</th>\n",
       "      <td>0</td>\n",
       "      <td>0</td>\n",
       "      <td>10</td>\n",
       "      <td>114</td>\n",
       "      <td>1</td>\n",
       "      <td>0</td>\n",
       "      <td>2628</td>\n",
       "      <td>10</td>\n",
       "      <td>114</td>\n",
       "      <td>0</td>\n",
       "      <td>4148.585834</td>\n",
       "      <td>953.916215</td>\n",
       "    </tr>\n",
       "    <tr>\n",
       "      <th>1</th>\n",
       "      <td>0</td>\n",
       "      <td>6</td>\n",
       "      <td>10</td>\n",
       "      <td>114</td>\n",
       "      <td>1</td>\n",
       "      <td>0</td>\n",
       "      <td>2628</td>\n",
       "      <td>10</td>\n",
       "      <td>114</td>\n",
       "      <td>0</td>\n",
       "      <td>4148.585834</td>\n",
       "      <td>953.916215</td>\n",
       "    </tr>\n",
       "    <tr>\n",
       "      <th>2</th>\n",
       "      <td>1</td>\n",
       "      <td>6</td>\n",
       "      <td>10</td>\n",
       "      <td>114</td>\n",
       "      <td>1</td>\n",
       "      <td>0</td>\n",
       "      <td>2628</td>\n",
       "      <td>10</td>\n",
       "      <td>114</td>\n",
       "      <td>0</td>\n",
       "      <td>4148.585834</td>\n",
       "      <td>953.916215</td>\n",
       "    </tr>\n",
       "    <tr>\n",
       "      <th>3</th>\n",
       "      <td>6</td>\n",
       "      <td>0</td>\n",
       "      <td>10</td>\n",
       "      <td>114</td>\n",
       "      <td>1</td>\n",
       "      <td>0</td>\n",
       "      <td>2628</td>\n",
       "      <td>10</td>\n",
       "      <td>114</td>\n",
       "      <td>0</td>\n",
       "      <td>4148.585834</td>\n",
       "      <td>953.916215</td>\n",
       "    </tr>\n",
       "    <tr>\n",
       "      <th>4</th>\n",
       "      <td>8</td>\n",
       "      <td>0</td>\n",
       "      <td>10</td>\n",
       "      <td>114</td>\n",
       "      <td>1</td>\n",
       "      <td>0</td>\n",
       "      <td>2628</td>\n",
       "      <td>10</td>\n",
       "      <td>114</td>\n",
       "      <td>0</td>\n",
       "      <td>4148.585834</td>\n",
       "      <td>953.916215</td>\n",
       "    </tr>\n",
       "  </tbody>\n",
       "</table>\n",
       "</div>"
      ],
      "text/plain": [
       "   hour  dow  pickup_location_id  dropoff_location_id  count  bucketId  _uid_  \\\n",
       "0     0    0                  10                  114      1         0   2628   \n",
       "1     0    6                  10                  114      1         0   2628   \n",
       "2     1    6                  10                  114      1         0   2628   \n",
       "3     6    0                  10                  114      1         0   2628   \n",
       "4     8    0                  10                  114      1         0   2628   \n",
       "\n",
       "   fromid  toid  timebucket   distance_i  duration_i  \n",
       "0      10   114           0  4148.585834  953.916215  \n",
       "1      10   114           0  4148.585834  953.916215  \n",
       "2      10   114           0  4148.585834  953.916215  \n",
       "3      10   114           0  4148.585834  953.916215  \n",
       "4      10   114           0  4148.585834  953.916215  "
      ]
     },
     "execution_count": 60,
     "metadata": {},
     "output_type": "execute_result"
    }
   ],
   "source": [
    "#join filtered_total by time with legs\n",
    "join = filtered_total.merge(\n",
    "                    legs, \n",
    "                    left_on=['bucketId','pickup_location_id','dropoff_location_id'],\n",
    "                    right_on=['timebucket','fromid','toid']\n",
    "                    )\n",
    "join.head()"
   ]
  },
  {
   "cell_type": "markdown",
   "metadata": {},
   "source": [
    "## Model 2 - Dwell Time in Zone"
   ]
  },
  {
   "cell_type": "code",
   "execution_count": 61,
   "metadata": {},
   "outputs": [],
   "source": [
    "#get the total dwell time in zone by mins\n",
    "total_mins = sum(join['count'] * (join['duration_i'] / 60))"
   ]
  },
  {
   "cell_type": "code",
   "execution_count": 62,
   "metadata": {},
   "outputs": [
    {
     "data": {
      "text/plain": [
       "172918569.36927497"
      ]
     },
     "execution_count": 62,
     "metadata": {},
     "output_type": "execute_result"
    }
   ],
   "source": [
    "total_mins  * 0.30 "
   ]
  },
  {
   "cell_type": "markdown",
   "metadata": {},
   "source": [
    "## Model 3 - Distance in Zone"
   ]
  },
  {
   "cell_type": "code",
   "execution_count": 63,
   "metadata": {},
   "outputs": [],
   "source": [
    "#get the total distance in zone by miles\n",
    "total_miles = sum(join['count'] * (join['distance_i']/ 1609.344))"
   ]
  },
  {
   "cell_type": "code",
   "execution_count": 64,
   "metadata": {},
   "outputs": [
    {
     "data": {
      "text/plain": [
       "96325055.85633157"
      ]
     },
     "execution_count": 64,
     "metadata": {},
     "output_type": "execute_result"
    }
   ],
   "source": [
    "total_miles"
   ]
  },
  {
   "cell_type": "markdown",
   "metadata": {},
   "source": [
    "# Time Bucket based modified models"
   ]
  },
  {
   "cell_type": "markdown",
   "metadata": {},
   "source": [
    "# Model 1a - time based rates, rushhour, weekday and weekends"
   ]
  },
  {
   "cell_type": "code",
   "execution_count": 73,
   "metadata": {},
   "outputs": [
    {
     "data": {
      "text/html": [
       "<div>\n",
       "<style scoped>\n",
       "    .dataframe tbody tr th:only-of-type {\n",
       "        vertical-align: middle;\n",
       "    }\n",
       "\n",
       "    .dataframe tbody tr th {\n",
       "        vertical-align: top;\n",
       "    }\n",
       "\n",
       "    .dataframe thead th {\n",
       "        text-align: right;\n",
       "    }\n",
       "</style>\n",
       "<table border=\"1\" class=\"dataframe\">\n",
       "  <thead>\n",
       "    <tr style=\"text-align: right;\">\n",
       "      <th></th>\n",
       "      <th>hour</th>\n",
       "      <th>dow</th>\n",
       "      <th>pickup_location_id</th>\n",
       "      <th>dropoff_location_id</th>\n",
       "      <th>count</th>\n",
       "      <th>_uid_</th>\n",
       "      <th>fromid</th>\n",
       "      <th>toid</th>\n",
       "      <th>timebucket</th>\n",
       "      <th>distance_i</th>\n",
       "      <th>duration_i</th>\n",
       "    </tr>\n",
       "    <tr>\n",
       "      <th>bucketId</th>\n",
       "      <th></th>\n",
       "      <th></th>\n",
       "      <th></th>\n",
       "      <th></th>\n",
       "      <th></th>\n",
       "      <th></th>\n",
       "      <th></th>\n",
       "      <th></th>\n",
       "      <th></th>\n",
       "      <th></th>\n",
       "      <th></th>\n",
       "    </tr>\n",
       "  </thead>\n",
       "  <tbody>\n",
       "    <tr>\n",
       "      <th>0</th>\n",
       "      <td>201578</td>\n",
       "      <td>201578</td>\n",
       "      <td>201578</td>\n",
       "      <td>201578</td>\n",
       "      <td>201578</td>\n",
       "      <td>201578</td>\n",
       "      <td>201578</td>\n",
       "      <td>201578</td>\n",
       "      <td>201578</td>\n",
       "      <td>201578</td>\n",
       "      <td>201578</td>\n",
       "    </tr>\n",
       "    <tr>\n",
       "      <th>1</th>\n",
       "      <td>87476</td>\n",
       "      <td>87476</td>\n",
       "      <td>87476</td>\n",
       "      <td>87476</td>\n",
       "      <td>87476</td>\n",
       "      <td>87476</td>\n",
       "      <td>87476</td>\n",
       "      <td>87476</td>\n",
       "      <td>87476</td>\n",
       "      <td>87476</td>\n",
       "      <td>87476</td>\n",
       "    </tr>\n",
       "    <tr>\n",
       "      <th>2</th>\n",
       "      <td>339175</td>\n",
       "      <td>339175</td>\n",
       "      <td>339175</td>\n",
       "      <td>339175</td>\n",
       "      <td>339175</td>\n",
       "      <td>339175</td>\n",
       "      <td>339175</td>\n",
       "      <td>339175</td>\n",
       "      <td>339175</td>\n",
       "      <td>339175</td>\n",
       "      <td>339175</td>\n",
       "    </tr>\n",
       "    <tr>\n",
       "      <th>3</th>\n",
       "      <td>31586</td>\n",
       "      <td>31586</td>\n",
       "      <td>31586</td>\n",
       "      <td>31586</td>\n",
       "      <td>31586</td>\n",
       "      <td>31586</td>\n",
       "      <td>31586</td>\n",
       "      <td>31586</td>\n",
       "      <td>31586</td>\n",
       "      <td>31586</td>\n",
       "      <td>31586</td>\n",
       "    </tr>\n",
       "  </tbody>\n",
       "</table>\n",
       "</div>"
      ],
      "text/plain": [
       "            hour     dow  pickup_location_id  dropoff_location_id   count  \\\n",
       "bucketId                                                                    \n",
       "0         201578  201578              201578               201578  201578   \n",
       "1          87476   87476               87476                87476   87476   \n",
       "2         339175  339175              339175               339175  339175   \n",
       "3          31586   31586               31586                31586   31586   \n",
       "\n",
       "           _uid_  fromid    toid  timebucket  distance_i  duration_i  \n",
       "bucketId                                                              \n",
       "0         201578  201578  201578      201578      201578      201578  \n",
       "1          87476   87476   87476       87476       87476       87476  \n",
       "2         339175  339175  339175      339175      339175      339175  \n",
       "3          31586   31586   31586       31586       31586       31586  "
      ]
     },
     "execution_count": 73,
     "metadata": {},
     "output_type": "execute_result"
    }
   ],
   "source": [
    "join.groupby('bucketId').count()"
   ]
  },
  {
   "cell_type": "code",
   "execution_count": 68,
   "metadata": {},
   "outputs": [
    {
     "data": {
      "text/plain": [
       "138100113.0"
      ]
     },
     "execution_count": 68,
     "metadata": {},
     "output_type": "execute_result"
    }
   ],
   "source": [
    "#sum in counts by buckets\n",
    "\n",
    "# 8am Weekdays (6/6) - (morning rush-hours 6 - 10am) - 1 - $5\n",
    "# 2pm Weekdays (6/6) - (non-rush hours) - 2 -  $2.5\n",
    "# 6pm Weekdays (6/6) - (night rush-hours 4 - 8pm) - 3 $5\n",
    "# 2pm Weekends (6/9) - (non-rush hours) - 0 - $2\n",
    "\n",
    "rate = {\n",
    "    1: 5.0,\n",
    "    2: 2.5,\n",
    "    3: 5.0,\n",
    "    0: 2.0\n",
    "}\n",
    "\n",
    "def getTimeBasedRateRev(row):\n",
    "    return rate[row['bucketId']] * row['count']\n",
    "\n",
    "\n",
    "sum(join.apply(getTimeBasedRateRev, axis = 1))"
   ]
  },
  {
   "cell_type": "markdown",
   "metadata": {},
   "source": [
    "## Model 2a - Dwell Time based on time"
   ]
  },
  {
   "cell_type": "code",
   "execution_count": 78,
   "metadata": {},
   "outputs": [
    {
     "data": {
      "text/plain": [
       "160287460.7156365"
      ]
     },
     "execution_count": 78,
     "metadata": {},
     "output_type": "execute_result"
    }
   ],
   "source": [
    "rate = {\n",
    "    1: 0.50,\n",
    "    2: 0.25,\n",
    "    3: 0.50,\n",
    "    0: 0.20\n",
    "}\n",
    "\n",
    "def getTimeBasedDwellRev(row):\n",
    "    return rate[row['bucketId']] * row['count'] * (row['duration_i'] / 60)\n",
    "\n",
    "sum(join.apply(getTimeBasedDwellRev, axis = 1))"
   ]
  },
  {
   "cell_type": "markdown",
   "metadata": {},
   "source": [
    "## Model 3a - Distance in Zone based on time"
   ]
  },
  {
   "cell_type": "code",
   "execution_count": 79,
   "metadata": {},
   "outputs": [
    {
     "data": {
      "text/plain": [
       "97118741.39256494"
      ]
     },
     "execution_count": 79,
     "metadata": {},
     "output_type": "execute_result"
    }
   ],
   "source": [
    "rate = {\n",
    "    1: 1.50,\n",
    "    2: 1.00,\n",
    "    3: 1.50,\n",
    "    0: 0.75\n",
    "}\n",
    "\n",
    "def getTimeBasedDistanceRev(row):\n",
    "    return rate[row['bucketId']] * row['count'] * (row['distance_i'] / 1609.344)\n",
    "\n",
    "sum(join.apply(getTimeBasedDistanceRev, axis = 1))"
   ]
  },
  {
   "cell_type": "markdown",
   "metadata": {},
   "source": [
    "time bucket based |rate   | duration in zone  | distance in zone |\n",
    "--- | --- | --- | --- |\n",
    "no | `$263,335,230.00` |  `$172,918,569.37` | `$96,325,055.86` |\n",
    "yes | `$138,100,113.00` | `$160,287,460.72` | `$97,118,741.39`"
   ]
  },
  {
   "cell_type": "code",
   "execution_count": null,
   "metadata": {},
   "outputs": [],
   "source": []
  }
 ],
 "metadata": {
  "kernelspec": {
   "display_name": "Python 3",
   "language": "python",
   "name": "python3"
  },
  "language_info": {
   "codemirror_mode": {
    "name": "ipython",
    "version": 3
   },
   "file_extension": ".py",
   "mimetype": "text/x-python",
   "name": "python",
   "nbconvert_exporter": "python",
   "pygments_lexer": "ipython3",
   "version": "3.6.4"
  }
 },
 "nbformat": 4,
 "nbformat_minor": 2
}
